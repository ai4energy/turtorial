{
 "cells": [
  {
   "cell_type": "markdown",
   "id": "38aebf68-c8a4-447b-8b96-1c57d0be28f7",
   "metadata": {},
   "source": [
    "# LFortran简介"
   ]
  }
 ],
 "metadata": {
  "kernelspec": {
   "display_name": "Fortran",
   "language": "fortran",
   "name": "fortran"
  },
  "language_info": {
   "file_extension": ".f90",
   "mimetype": "text/x-fortran",
   "name": "fortran",
   "version": "2018"
  }
 },
 "nbformat": 4,
 "nbformat_minor": 5
}
