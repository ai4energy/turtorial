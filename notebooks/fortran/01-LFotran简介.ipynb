{
 "cells": [
  {
   "cell_type": "markdown",
   "id": "38aebf68-c8a4-447b-8b96-1c57d0be28f7",
   "metadata": {},
   "source": [
    "# LFortran简介\n",
    "\n",
    "## 什么是 lfortran？\n",
    "\n",
    "lfortran 是一个现代的 Fortran 编译器基础设施，设计用于提供高级功能和强大的编译器工具。它的目标是成为一个支持现代 Fortran 标准的开源编译器，同时提供灵活的编程接口，使得编译器开发者和用户能够方便地操作和扩展 Fortran 代码。\n",
    "\n",
    "## 主要功能\n",
    "\n",
    "1. **抽象语法树 (AST)**：lfortran 提供了对 Fortran 代码的详细抽象语法树表示，使用户能够轻松分析和修改代码结构。这对于理解和优化代码非常重要。\n",
    "2. **即时编译 (JIT)**：lfortran 支持即时编译技术，可以在运行时编译和执行 Fortran 代码，这对于科学计算和快速原型开发非常有用。\n",
    "3. **交互式使用**：通过与 Jupyter Notebook 的集成，lfortran 允许用户在交互式环境中编写和执行 Fortran 代码，增强了教学和研究的便利性。\n",
    "4. **高性能计算**：lfortran 旨在支持高性能计算的需求，能够生成高效的机器代码，适用于数值模拟和科学计算等领域。\n",
    "\n",
    "## 重点\n",
    "\n",
    "lfortran 是一个强大的工具，为 Fortran 编程带来了现代化的编译器技术。通过对 AST 的支持和与 Jupyter Notebook 的集成，lfortran 不仅适合科学计算和高性能计算的需求，也为教学和研究提供了极大的便利。\n",
    "\n",
    "此外，lfortran 使用 LLVM（Low Level Virtual Machine）作为其后端编译器基础设施。LLVM 是一个高度优化的编译器框架，能够生成高效的机器代码，并支持多种硬件架构。通过使用 LLVM，lfortran 能够利用其强大的优化功能和跨平台支持，为用户提供高性能和灵活的编译体验。\n",
    "\n",
    "让我们先从一些Fortran的例子出发，进行一下交互式体验。\n",
    "\n",
    "## 计算"
   ]
  },
  {
   "cell_type": "code",
   "execution_count": 1,
   "id": "7002277c-8924-4d09-b5f9-8edfe7c6c498",
   "metadata": {},
   "outputs": [
    {
     "data": {
      "text/plain": [
       "6"
      ]
     },
     "execution_count": 1,
     "metadata": {},
     "output_type": "execute_result"
    }
   ],
   "source": [
    "1+2+3"
   ]
  },
  {
   "cell_type": "code",
   "execution_count": 2,
   "id": "4de523da-3012-4797-bbff-9ca91f7f7a00",
   "metadata": {},
   "outputs": [
    {
     "data": {
      "text/plain": [
       "15"
      ]
     },
     "execution_count": 2,
     "metadata": {},
     "output_type": "execute_result"
    }
   ],
   "source": [
    "(2+3)*3"
   ]
  },
  {
   "cell_type": "markdown",
   "id": "99ac9028-bb87-45b2-96ed-9144413879ba",
   "metadata": {},
   "source": [
    "## 全局变量"
   ]
  },
  {
   "cell_type": "code",
   "execution_count": 1,
   "id": "37290871-1181-48f2-a13e-4efd0433ca43",
   "metadata": {},
   "outputs": [],
   "source": [
    "integer :: i"
   ]
  },
  {
   "cell_type": "code",
   "execution_count": 2,
   "id": "28b532d2-d1f2-4db0-ad8f-458fbb983d72",
   "metadata": {},
   "outputs": [],
   "source": [
    "integer :: j"
   ]
  },
  {
   "cell_type": "code",
   "execution_count": 3,
   "id": "4dc0ff55-ecd2-4482-9c65-4065e011c9c4",
   "metadata": {},
   "outputs": [],
   "source": [
    "i = 5\n",
    "j = 6"
   ]
  },
  {
   "cell_type": "code",
   "execution_count": 4,
   "id": "7ddaef57-b32e-4065-b5c7-82e1bac448b6",
   "metadata": {},
   "outputs": [
    {
     "data": {
      "text/plain": [
       "5"
      ]
     },
     "execution_count": 4,
     "metadata": {},
     "output_type": "execute_result"
    }
   ],
   "source": [
    "i"
   ]
  },
  {
   "cell_type": "code",
   "execution_count": 5,
   "id": "321cecc8-9e66-4bc7-b4ad-3252bb863572",
   "metadata": {},
   "outputs": [
    {
     "data": {
      "text/plain": [
       "33"
      ]
     },
     "execution_count": 5,
     "metadata": {},
     "output_type": "execute_result"
    }
   ],
   "source": [
    "(i+j)*3"
   ]
  },
  {
   "cell_type": "markdown",
   "id": "015dcd5c-f381-42c5-aff4-1523b76ed351",
   "metadata": {},
   "source": [
    "## 函数\n",
    "你可以声明一个函数并在表达式中使用它："
   ]
  },
  {
   "cell_type": "code",
   "execution_count": 6,
   "id": "deda9897-9b3a-4ca2-af26-1f5b5aebc39c",
   "metadata": {},
   "outputs": [],
   "source": [
    "integer function fn(a, b)\n",
    "integer, intent(in) :: a, b\n",
    "fn = a + b\n",
    "end function"
   ]
  },
  {
   "cell_type": "code",
   "execution_count": 7,
   "id": "af851a7f-2068-4d2b-9715-e0bd1d71d393",
   "metadata": {},
   "outputs": [
    {
     "data": {
      "text/plain": [
       "5"
      ]
     },
     "execution_count": 7,
     "metadata": {},
     "output_type": "execute_result"
    }
   ],
   "source": [
    "fn(2, 3)"
   ]
  },
  {
   "cell_type": "code",
   "execution_count": 8,
   "id": "e50fc8d7-83a6-47cf-b97d-c9898b086dbc",
   "metadata": {},
   "outputs": [
    {
     "data": {
      "text/plain": [
       "15"
      ]
     },
     "execution_count": 8,
     "metadata": {},
     "output_type": "execute_result"
    }
   ],
   "source": [
    "fn(2, 3)*3"
   ]
  },
  {
   "cell_type": "markdown",
   "id": "0568c374-ca47-45de-bdd1-29b0c6bf2290",
   "metadata": {},
   "source": [
    "## 控制流与打印\n",
    "你可以使用循环、if 语句或 `print` 函数。"
   ]
  },
  {
   "cell_type": "code",
   "execution_count": 11,
   "id": "84060ac9-e4d3-4532-8413-02d5b71c59de",
   "metadata": {},
   "outputs": [
    {
     "name": "stdout",
     "output_type": "stream",
     "text": [
      "variable i = 1\n",
      "variable i = 2\n",
      "variable i = 4\n"
     ]
    }
   ],
   "source": [
    "integer :: k\n",
    "do k = 1, 4\n",
    "    if (k == 3) cycle\n",
    "    print *, \"variable i =\", k\n",
    "end do"
   ]
  },
  {
   "cell_type": "markdown",
   "id": "b8117ead-46be-4c40-bbfd-4efcfb0db342",
   "metadata": {},
   "source": [
    "## 魔法命令\n"
   ]
  },
  {
   "cell_type": "markdown",
   "id": "be0687ae-6b9d-4119-be10-97b7a6546c3c",
   "metadata": {},
   "source": [
    "### 显示抽象语法树\n",
    "在解析后显示抽象语法树 (AST)（仅基于语法，无语义）："
   ]
  },
  {
   "cell_type": "code",
   "execution_count": 12,
   "id": "b4312887-9ed5-4be1-bf93-584a67f76eaf",
   "metadata": {},
   "outputs": [],
   "source": [
    "integer :: n\n",
    "n = 5\n",
    "j = 0"
   ]
  },
  {
   "cell_type": "code",
   "execution_count": 13,
   "id": "2fb25779-3b72-4992-b5f7-b878dceb4258",
   "metadata": {},
   "outputs": [
    {
     "name": "stdout",
     "output_type": "stream",
     "text": [
      "(\u001b[1m\u001b[35mTranslationUnit\u001b[39m\u001b[0m\n",
      "    [(\u001b[1m\u001b[35mDoLoop\u001b[39m\u001b[0m\n",
      "        0\n",
      "        ()\n",
      "        0\n",
      "        i\n",
      "        \u001b[36m1\u001b[39m\n",
      "        \u001b[33mn\u001b[39m\n",
      "        ()\n",
      "        [(\u001b[1m\u001b[35mAssignment\u001b[39m\u001b[0m\n",
      "            0\n",
      "            \u001b[33mj\u001b[39m\n",
      "            (+ \u001b[33mj\u001b[39m \u001b[33mi\u001b[39m)\n",
      "            ()\n",
      "        )]\n",
      "        ()\n",
      "        ()\n",
      "    )]\n",
      ")"
     ]
    }
   ],
   "source": [
    "%%showast\n",
    "do i = 1, n\n",
    "    j = j + i\n",
    "end do"
   ]
  },
  {
   "cell_type": "markdown",
   "id": "a05b5f1f-38b5-4323-999e-57272ff4d666",
   "metadata": {},
   "source": [
    "### 显示 LLVM 代码"
   ]
  },
  {
   "cell_type": "code",
   "execution_count": 14,
   "id": "2a8176ed-68a4-43f1-8ca7-706dddf8eb8f",
   "metadata": {},
   "outputs": [
    {
     "name": "stdout",
     "output_type": "stream",
     "text": [
      "; ModuleID = 'LFortran'\n",
      "source_filename = \"LFortran\"\n",
      "\n",
      "@i = external global i32\n",
      "@j = external global i32\n",
      "@k = external global i32\n",
      "@n = external global i32\n",
      "\n",
      "define void @__lfortran_evaluate_13() {\n",
      ".entry:\n",
      "  store i32 0, i32* @i, align 4\n",
      "  br label %loop.head\n",
      "\n",
      "loop.head:                                        ; preds = %loop.body, %.entry\n",
      "  %0 = load i32, i32* @i, align 4\n",
      "  %1 = add i32 %0, 1\n",
      "  %2 = load i32, i32* @n, align 4\n",
      "  %3 = icmp sle i32 %1, %2\n",
      "  br i1 %3, label %loop.body, label %loop.end\n",
      "\n",
      "loop.body:                                        ; preds = %loop.head\n",
      "  %4 = load i32, i32* @i, align 4\n",
      "  %5 = add i32 %4, 1\n",
      "  store i32 %5, i32* @i, align 4\n",
      "  %6 = load i32, i32* @j, align 4\n",
      "  %7 = load i32, i32* @i, align 4\n",
      "  %8 = add i32 %6, %7\n",
      "  store i32 %8, i32* @j, align 4\n",
      "  br label %loop.head\n",
      "\n",
      "loop.end:                                         ; preds = %loop.head\n",
      "  br label %return\n",
      "\n",
      "return:                                           ; preds = %loop.end\n",
      "  ret void\n",
      "}\n",
      "\n",
      "declare i32 @fn(i32*, i32*)\n",
      "\n",
      "declare i32 @fn2(i32*, i32*)\n"
     ]
    }
   ],
   "source": [
    "%%showllvm\n",
    "do i = 1, n\n",
    "    j = j + i\n",
    "end do"
   ]
  },
  {
   "cell_type": "markdown",
   "id": "ba0739d3-bed4-49bd-a25a-4e92e5c9317f",
   "metadata": {},
   "source": [
    "# 显示汇编代码"
   ]
  },
  {
   "cell_type": "code",
   "execution_count": 15,
   "id": "7131fb5b-8aae-434a-ab35-763701d76c4f",
   "metadata": {},
   "outputs": [
    {
     "name": "stdout",
     "output_type": "stream",
     "text": [
      "\t.text\n",
      "\t.file\t\"LFortran\"\n",
      "\t.globl\t__lfortran_evaluate_14\n",
      "\t.p2align\t4, 0x90\n",
      "\t.type\t__lfortran_evaluate_14,@function\n",
      "__lfortran_evaluate_14:\n",
      "\t.cfi_startproc\n",
      "\tmovq\ti@GOTPCREL(%rip), %rax\n",
      "\tmovl\t$0, (%rax)\n",
      "\tmovq\tn@GOTPCREL(%rip), %rcx\n",
      "\tmovq\tj@GOTPCREL(%rip), %rdx\n",
      "\t.p2align\t4, 0x90\n",
      ".LBB0_1:\n",
      "\tmovl\t(%rax), %esi\n",
      "\tincl\t%esi\n",
      "\tcmpl\t(%rcx), %esi\n",
      "\tjg\t.LBB0_3\n",
      "\tmovl\t(%rax), %esi\n",
      "\tincl\t%esi\n",
      "\tmovl\t%esi, (%rax)\n",
      "\taddl\t%esi, (%rdx)\n",
      "\tjmp\t.LBB0_1\n",
      ".LBB0_3:\n",
      "\tretq\n",
      ".Lfunc_end0:\n",
      "\t.size\t__lfortran_evaluate_14, .Lfunc_end0-__lfortran_evaluate_14\n",
      "\t.cfi_endproc\n",
      "\n",
      "\t.section\t\".note.GNU-stack\",\"\",@progbits\n"
     ]
    }
   ],
   "source": [
    "%%showasm\n",
    "do i = 1, n\n",
    "    j = j + i\n",
    "end do"
   ]
  }
 ],
 "metadata": {
  "kernelspec": {
   "display_name": "Fortran",
   "language": "fortran",
   "name": "fortran"
  },
  "language_info": {
   "file_extension": ".f90",
   "mimetype": "text/x-fortran",
   "name": "fortran",
   "version": "2018"
  }
 },
 "nbformat": 4,
 "nbformat_minor": 5
}
