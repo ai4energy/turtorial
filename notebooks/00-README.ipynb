{
 "cells": [
  {
   "cell_type": "markdown",
   "id": "922d9e73-7abc-4f15-b790-542006957279",
   "metadata": {},
   "source": [
    "# 教程说明\n",
    "\n",
    "欢迎参加使用本教程。本教程还在建设中。\n",
    "\n",
    "## 如何使用\n",
    "\n",
    "**访问方式**：\n",
    "   - **校内用户**：直接使用 `http://class.ai4energy.local` 访问课程资源。（需参考后面设置伪域名。）\n",
    "   - **非 XJTU 校园网用户**：请使用 MyBinder 提供的服务进行访问。点击[MyBinder](https://mybinder.org/v2/gh/ai4energy/tutorial/main)\n",
    "\n",
    "设置本地伪域名 `class.ai4energy.local` 访问的具体步骤如下：\n",
    "\n",
    "1. **获取访问 Token**：\n",
    "   - 请联系本教程负责人领取访问 Token。\n",
    "\n",
    "2. **编辑 hosts 文件**：\n",
    "   - 请在你的计算机上编辑 `hosts` 文件，加入以下内容：\n",
    "\n",
    "     ```plaintext\n",
    "     58.206.100.50 class.ai4energy.local\n",
    "     ```\n",
    "\n",
    "   - 不同操作系统编辑 `hosts` 文件的方式：\n",
    "\n",
    "     - **Windows**：\n",
    "       1. 打开记事本程序，以管理员身份运行。\n",
    "       2. 打开 `C:\\Windows\\System32\\drivers\\etc\\hosts` 文件。\n",
    "       3. 在文件末尾加入 `58.206.100.50 class.ai4energy.local` 并保存。\n",
    "\n",
    "     - **MacOS / Linux**：\n",
    "       1. 打开终端。\n",
    "       2. 输入 `sudo nano /etc/hosts` 并按回车。\n",
    "       3. 在文件末尾加入 `58.206.100.50 class.ai4energy.local` 并保存（按 `Ctrl+X`，然后 `Y` 确认保存）。\n",
    "\n",
    "3. **打开浏览器访问**：\n",
    "\n",
    "打开浏览器，输入 `http://class.ai4energy.local` 并使用领取的 Token 登录。\n",
    "\n",
    "如果在使用过程中有任何问题，请及时联系我们获取帮助。联系方式：mingtao@xjtu.edu.cn。"
   ]
  }
 ],
 "metadata": {
  "kernelspec": {
   "display_name": "Python 3 (ipykernel)",
   "language": "python",
   "name": "python3"
  },
  "language_info": {
   "codemirror_mode": {
    "name": "ipython",
    "version": 3
   },
   "file_extension": ".py",
   "mimetype": "text/x-python",
   "name": "python",
   "nbconvert_exporter": "python",
   "pygments_lexer": "ipython3",
   "version": "3.11.9"
  }
 },
 "nbformat": 4,
 "nbformat_minor": 5
}
